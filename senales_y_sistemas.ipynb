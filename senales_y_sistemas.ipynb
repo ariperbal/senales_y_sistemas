{
 "cells": [
  {
   "cell_type": "markdown",
   "id": "1dce4ccf-c288-41d4-9734-e5e2a1e34391",
   "metadata": {},
   "source": [
    "# 📘 Tema 3 – Series de Fourier\n",
    "\n",
    "## Pregunta 1\n",
    "¿Cuál es la frecuencia fundamental de una señal con periodo T₀ = 0.5 s?\n",
    "\n",
    "<details>\n",
    "<summary>💡 Ver respuesta</summary>\n",
    "\n",
    "✅ **Respuesta:**  \n",
    "La frecuencia fundamental es \\( f_0 = \\frac{1}{T_0} = 2 \\text{ Hz} \\).  \n",
    "\n",
    "**Explicación:**  \n",
    "La frecuencia fundamental indica cuántas veces la señal completa un ciclo por segundo.  \n",
    "En este caso, \\( T_0 = 0.5 \\) → la señal se repite cada medio segundo, o 2 veces por segundo.\n",
    "\n",
    "</details>\n",
    "\n",
    "---\n",
    "\n",
    "## Pregunta 2\n",
    "Una señal periódica puede representarse como suma de exponenciales complejas. ¿Verdadero o falso?\n",
    "\n",
    "<details>\n",
    "<summary>💡 Ver respuesta</summary>\n",
    "\n",
    "✅ **Verdadero.**  \n",
    "**Explicación:**  \n",
    "Según la Serie de Fourier exponencial:\n",
    "\\[\n",
    "x(t) = \\sum_{k=-\\infty}^{\\infty} a_k e^{j k \\omega_0 t}\n",
    "\\]\n",
    "donde cada término representa un armónico de frecuencia múltiplo de \\(\\omega_0 = 2\\pi/T_0\\).\n",
    "\n",
    "</details>\n",
    "\n",
    "---\n",
    "\n",
    "## Pregunta 3\n",
    "¿Cómo se calcula el coeficiente \\(a_k\\) de la Serie de Fourier?\n",
    "\n",
    "<details>\n",
    "<summary>💡 Ver respuesta</summary>\n",
    "\n",
    "✅ **Respuesta:**\n",
    "\\[\n",
    "a_k = \\frac{1}{T_0} \\int_{T_0} x(t)e^{-jk\\omega_0 t} dt\n",
    "\\]\n",
    "\n",
    "**Explicación:**  \n",
    "El coeficiente \\(a_k\\) mide la contribución de la componente de frecuencia \\(k\\omega_0\\) a la señal original.  \n",
    "Cuanto mayor sea |aₖ|, mayor es la energía del armónico correspondiente.\n",
    "\n",
    "</details>\n"
   ]
  },
  {
   "cell_type": "code",
   "execution_count": null,
   "id": "75980604-c7fb-4fcb-a73b-4d1d87fa8551",
   "metadata": {},
   "outputs": [],
   "source": []
  }
 ],
 "metadata": {
  "kernelspec": {
   "display_name": "Python 3 (ipykernel)",
   "language": "python",
   "name": "python3"
  },
  "language_info": {
   "codemirror_mode": {
    "name": "ipython",
    "version": 3
   },
   "file_extension": ".py",
   "mimetype": "text/x-python",
   "name": "python",
   "nbconvert_exporter": "python",
   "pygments_lexer": "ipython3",
   "version": "3.13.5"
  }
 },
 "nbformat": 4,
 "nbformat_minor": 5
}
